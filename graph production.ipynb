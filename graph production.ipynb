{
 "cells": [
  {
   "cell_type": "markdown",
   "metadata": {},
   "source": [
    "# graph production\n"
   ]
  },
  {
   "cell_type": "markdown",
   "metadata": {},
   "source": [
    "import needed modules and set confige"
   ]
  },
  {
   "cell_type": "code",
   "execution_count": 1,
   "metadata": {
    "collapsed": true,
    "jupyter": {
     "outputs_hidden": true
    }
   },
   "outputs": [
    {
     "name": "stdout",
     "output_type": "stream",
     "text": [
      "0.10\n",
      "2.2\n"
     ]
    }
   ],
   "source": [
    "#import needed modules\n",
    "import config\n",
    "import geopandas as gpd\n",
    "import json\n",
    "import networkx as nx\n",
    "import numpy as np\n",
    "import os\n",
    "import osmnx as ox\n",
    "import pandas as pd\n",
    "import time\n",
    "#set config folder\n",
    "ox.config(use_cache=True,#if True, use a local cache to save/retrieve http responses\n",
    "          log_file=True,# if true, save log output to a log file in logs_folder\n",
    "          log_console=True,#if true, print log output to the console\n",
    "          log_filename='calculate-cities',#name of the logger\n",
    "          cache_folder=\"folder\")#where to save the http response cache\n",
    "\n",
    "print(ox.__version__)\n",
    "print(nx.__version__)"
   ]
  },
  {
   "cell_type": "code",
   "execution_count": 2,
   "metadata": {},
   "outputs": [],
   "source": [
    "network_type = 'drive'#what type of street network to get\n",
    "retain_all = True#if True, return the entire graph even if it is not connected\n",
    "simplify = True# if true, simplify the graph topology\n",
    "\n",
    "input_folder = 'places' #place shapefiles\n",
    "output_folder_shapefile = \"shapefile\" #where to save graph shapefiles\n",
    "output_folder_graphml = \"graphml\" #where to save graphml files\n",
    "output_folder_lists = \"node/edges list\" #where to save node/edge lists"
   ]
  },
  {
   "cell_type": "markdown",
   "metadata": {},
   "source": [
    "load shapefiles and set the name of output folder for each country"
   ]
  },
  {
   "cell_type": "code",
   "execution_count": 3,
   "metadata": {},
   "outputs": [],
   "source": [
    "def load_shapefile(shapefile, input_folder=input_folder):\n",
    "    \n",
    "    cities = gpd.read_file('{}\\{}'.format(input_folder, shapefile))\n",
    "    \n",
    "    # create the output path to save \n",
    "    #create specefic output folders for each country individually using the attributes of shapefiles\n",
    "    code= cities['iso3'].unique()[0]# 'iso3' is a filed of shapefiles indicating the abbrevation for countries\n",
    "    name= cities['name'].unique()[0]# 'name' is a filed of shapefiles indicating the name of countries\n",
    "    folder = '{}_{}'.format(code, name)\n",
    "    \n",
    "    # tigerline data is epsg:4269, but osm uses epsg:4326, so project it\n",
    "    cities = cities.to_crs({'init':'epsg:4326'})\n",
    "    \n",
    "    print('{} loaded {} cities'.format(folder, len(cities)))\n",
    "    return cities, folder\n"
   ]
  },
  {
   "cell_type": "markdown",
   "metadata": {},
   "source": [
    "set the name of output folder for each city "
   ]
  },
  {
   "cell_type": "code",
   "execution_count": 4,
   "metadata": {},
   "outputs": [],
   "source": [
    "def make_queries(cities):\n",
    "    \n",
    "    cities['city_folder'] = cities.apply(lambda row: '{}_{}'.format(row['fuacode_si'],\n",
    "                                                                    row['fuaname_en']).replace(' ', '_'), axis=1)\n",
    "    #'fuacode_si' is a filed of shapefiles indicating the specefic code for each city.\n",
    "    #'fuaname_en' is a filed of shapefiles indicating the english name of each city.\n",
    "    queries = cities.apply(lambda row: {'city_folder':row['city_folder'].replace('/', '_'),\n",
    "                                        'polygon':row['geometry']}, axis=1).tolist()\n",
    "    \n",
    "    \n",
    "    return queries"
   ]
  },
  {
   "cell_type": "markdown",
   "metadata": {},
   "source": [
    "get the graphs within the polygon of each city "
   ]
  },
  {
   "cell_type": "code",
   "execution_count": 5,
   "metadata": {},
   "outputs": [],
   "source": [
    "def download_save_graph(query, folder):\n",
    "    \n",
    "    \n",
    "    #set the path of output files.\n",
    "    output_path_shapefile = '{}/{}'.format(output_folder_shapefile, folder)\n",
    "    output_path_graphml ='{}/{}/{}'.format(output_folder_lists, folder, query['city_folder'])\n",
    "    output_path_lists = '{}/{}/{}'.format(output_folder_lists, folder, query['city_folder'])\n",
    "\n",
    "    # load graph and save it if it hasn't already been saved in the output_path\n",
    "    if not os.path.exists('{}/{}.graphml'.format(output_path_graphml, query['city_folder'])):\n",
    "        \n",
    "        polygon = query['polygon']\n",
    "        city_folder = query['city_folder']\n",
    "        graph_name = '{}_{}'.format(folder, city_folder)\n",
    "        \n",
    "        # fix trivially invalid geometries (nested shells, ring self-intersections, etc)\n",
    "        polygon = polygon.buffer(0)\n",
    "\n",
    "        G = ox.graph_from_polygon(polygon=polygon,\n",
    "                                  network_type=network_type, \n",
    "                                  name=graph_name,\n",
    "                                  simplify=simplify,\n",
    "                                  retain_all=retain_all)\n",
    "\n",
    "        save_node_edge_lists(G, output_path_lists)\n",
    "        ox.save_graphml(G, folder=output_path_graphml, filename='{}.graphml'.format(city_folder))\n",
    "        ox.save_graph_shapefile(G, folder=output_path_shapefile, filename=city_folder)"
   ]
  },
  {
   "cell_type": "markdown",
   "metadata": {},
   "source": [
    "get nodes and edges in lists"
   ]
  },
  {
   "cell_type": "code",
   "execution_count": 6,
   "metadata": {},
   "outputs": [],
   "source": [
    "def save_node_edge_lists(G, lists_folder):\n",
    "    \n",
    "    # save node and edge lists as csv\n",
    "    nodes, edges = ox.graph_to_gdfs(G, node_geometry=False, fill_edge_geometry=False)\n",
    "    edges['length'] = edges['length'].round(3)\n",
    "\n",
    "    ecols = ['u', 'v', 'key', 'oneway', 'highway', 'name', 'length',\n",
    "             'lanes', 'width', 'est_width', 'maxspeed', 'access', 'service',\n",
    "             'bridge', 'tunnel', 'area', 'junction', 'osmid', 'ref']\n",
    "\n",
    "    edges = edges.drop(columns=['geometry']).reindex(columns=ecols)\n",
    "    nodes = nodes.reindex(columns=['osmid', 'x', 'y', 'ref', 'highway'])\n",
    "\n",
    "    if not os.path.exists(lists_folder):\n",
    "        os.makedirs(lists_folder)\n",
    "    nodes.to_csv('{}/node_list.csv'.format(lists_folder), index=False, encoding='utf-8')\n",
    "    edges.to_csv('{}/edge_list.csv'.format(lists_folder), index=False, encoding='utf-8')"
   ]
  },
  {
   "cell_type": "markdown",
   "metadata": {},
   "source": [
    "how many cities are there?"
   ]
  },
  {
   "cell_type": "code",
   "execution_count": 8,
   "metadata": {
    "collapsed": true,
    "jupyter": {
     "outputs_hidden": true
    }
   },
   "outputs": [
    {
     "data": {
      "text/plain": [
       "35"
      ]
     },
     "execution_count": 8,
     "metadata": {},
     "output_type": "execute_result"
    }
   ],
   "source": [
    "list=os.listdir(input_folder)\n",
    "main_shapefile=[\"the name of country's shapefile\".shp]\n",
    "\n",
    "gdf = gpd.GeoDataFrame()\n",
    "for place in main_shapefile:\n",
    "    gdf_tmp = gpd.read_file('{}/{}'.format(input_folder, place))\n",
    "    gdf = gdf.append(gdf_tmp)\n",
    "\n",
    "cities = gdf\n",
    "len(cities)"
   ]
  },
  {
   "cell_type": "markdown",
   "metadata": {},
   "source": [
    "# run it"
   ]
  },
  {
   "cell_type": "code",
   "execution_count": 9,
   "metadata": {},
   "outputs": [
    {
     "name": "stdout",
     "output_type": "stream",
     "text": [
      "NLD_Netherlands loaded 35 cities\n",
      "Finished making 35 NLD_Netherlands graphs in 9,656.1 seconds\n",
      "\n",
      "All finished in 9,656.3 seconds\n"
     ]
    }
   ],
   "source": [
    "all_start_time = time.time()\n",
    "\n",
    "for shapefile in main_shapefile:\n",
    "    \n",
    "    start_time = time.time()\n",
    "    \n",
    "    # load shapefile to get the city boundaries in this state\n",
    "    cities, folder = load_shapefile(shapefile)\n",
    "    queries = make_queries(cities)\n",
    "    count = 0\n",
    "    \n",
    "    for query in queries:\n",
    "        try:\n",
    "            download_save_graph(query, folder)\n",
    "            count += 1\n",
    "        except Exception as e:\n",
    "            ox.log('\"{}\" failed: {}'.format(query['city_folder'], e), level=lg.ERROR)\n",
    "            \n",
    "\n",
    "    print('Finished making {} {} graphs in {:,.1f} seconds\\n'.format(count, state_folder, time.time()-start_time))\n",
    "\n",
    "print('All finished in {:,.1f} seconds'.format(time.time()-all_start_time))"
   ]
  }
 ],
 "metadata": {
  "kernelspec": {
   "display_name": "Python 3",
   "language": "python",
   "name": "python3"
  },
  "language_info": {
   "codemirror_mode": {
    "name": "ipython",
    "version": 3
   },
   "file_extension": ".py",
   "mimetype": "text/x-python",
   "name": "python",
   "nbconvert_exporter": "python",
   "pygments_lexer": "ipython3",
   "version": "3.7.6"
  }
 },
 "nbformat": 4,
 "nbformat_minor": 4
}
